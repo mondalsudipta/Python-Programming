{
  "nbformat": 4,
  "nbformat_minor": 0,
  "metadata": {
    "colab": {
      "provenance": [],
      "authorship_tag": "ABX9TyPrD7s8Apnfex36kgfoZYxE",
      "include_colab_link": true
    },
    "kernelspec": {
      "name": "python3",
      "display_name": "Python 3"
    },
    "language_info": {
      "name": "python"
    }
  },
  "cells": [
    {
      "cell_type": "markdown",
      "metadata": {
        "id": "view-in-github",
        "colab_type": "text"
      },
      "source": [
        "<a href=\"https://colab.research.google.com/github/mondalsudipta/Python-Programming/blob/main/140_PYTHON_Programs_for_Practice.ipynb\" target=\"_parent\"><img src=\"https://colab.research.google.com/assets/colab-badge.svg\" alt=\"Open In Colab\"/></a>"
      ]
    },
    {
      "cell_type": "markdown",
      "source": [
        "# Program 4\n",
        "\n",
        "Write a Python program to swap two variables"
      ],
      "metadata": {
        "id": "ucLWihUO_wtS"
      }
    },
    {
      "cell_type": "code",
      "execution_count": 1,
      "metadata": {
        "colab": {
          "base_uri": "https://localhost:8080/"
        },
        "id": "6_DJfMIY-5p4",
        "outputId": "978105f4-7ca5-40c3-9b13-0c2eb145ca11"
      },
      "outputs": [
        {
          "output_type": "stream",
          "name": "stdout",
          "text": [
            "Enter first value (a): 5\n",
            "Enter first value (b): 9\n",
            "Original values: a = 5, b = 9\n",
            "Swapped values: a = 9, b = 5\n"
          ]
        }
      ],
      "source": [
        "# input two variables\n",
        "a = input('Enter first value (a): ')\n",
        "b = input('Enter first value (b): ')\n",
        "\n",
        "# display original values\n",
        "print(f'Original values: a = {a}, b = {b}')\n",
        "\n",
        "# swap values using a temporary variable\n",
        "temp = a\n",
        "a = b\n",
        "b = temp\n",
        "\n",
        "# display the swapped values\n",
        "print(f'Swapped values: a = {a}, b = {b}')"
      ]
    },
    {
      "cell_type": "markdown",
      "source": [
        "# Program 5\n",
        "\n",
        "Write a Python program to generate random number"
      ],
      "metadata": {
        "id": "cIMQG7RyHNZF"
      }
    },
    {
      "cell_type": "code",
      "source": [
        "import random\n",
        "print(f'Random number: {random.randint(1, 100)}')"
      ],
      "metadata": {
        "colab": {
          "base_uri": "https://localhost:8080/"
        },
        "id": "Rd9MjnYUEfNv",
        "outputId": "ff0f1006-75b0-4554-9a19-99fe2c9c39e6"
      },
      "execution_count": 4,
      "outputs": [
        {
          "output_type": "stream",
          "name": "stdout",
          "text": [
            "Random number: 52\n"
          ]
        }
      ]
    },
    {
      "cell_type": "markdown",
      "source": [
        "# Program 6\n",
        "\n",
        "Write a Python program to convert Kilometers to Miles"
      ],
      "metadata": {
        "id": "-910wY9oIDh_"
      }
    },
    {
      "cell_type": "code",
      "source": [
        "kilometers = float(input('Enter distance in kilometers: '))\n",
        "\n",
        "# conversion factor: 1 kilometer = 0.621371 miles [source: google]\n",
        "conversion_factor = 0.621371\n",
        "\n",
        "miles = kilometers * conversion_factor\n",
        "\n",
        "print(f'{kilometers} kilometers is equal to {miles} miles')"
      ],
      "metadata": {
        "colab": {
          "base_uri": "https://localhost:8080/"
        },
        "id": "z4iGX1nVHkGp",
        "outputId": "70fbd421-066e-482a-bfa8-691bdb6acca0"
      },
      "execution_count": 5,
      "outputs": [
        {
          "output_type": "stream",
          "name": "stdout",
          "text": [
            "Enter distance in kilometers: 100\n",
            "100.0 kilometers is equal to 62.137100000000004 miles\n"
          ]
        }
      ]
    },
    {
      "cell_type": "markdown",
      "source": [
        "# Program 7\n",
        "\n",
        "Write a Python program to convert Celsius to Fahrenheit"
      ],
      "metadata": {
        "id": "aPkFMbuxJMOm"
      }
    },
    {
      "cell_type": "code",
      "source": [
        "celsius = float(input('Enter temparature in Celsius: '))\n",
        "\n",
        "# conversion formula: Fahrenheit = (Celsius * 9/5) + 32\n",
        "fahrenheit = (celsius * 9/5) + 32\n",
        "\n",
        "print(f'{celsius} degrees Celsius is equal to {fahrenheit} degrees Fahrenheit')"
      ],
      "metadata": {
        "colab": {
          "base_uri": "https://localhost:8080/"
        },
        "id": "yn2opTpKJF3s",
        "outputId": "ee9a0111-1af0-400d-b670-654c7d4cc240"
      },
      "execution_count": 6,
      "outputs": [
        {
          "output_type": "stream",
          "name": "stdout",
          "text": [
            "Enter temparature in Celsius: 37\n",
            "37.0 degrees Celsius is equal to 98.6 degrees Fahrenheit\n"
          ]
        }
      ]
    },
    {
      "cell_type": "markdown",
      "source": [
        "# Program 8\n",
        "\n",
        "Write a Python program to display Calendar"
      ],
      "metadata": {
        "id": "aK6iIfY9KaXS"
      }
    },
    {
      "cell_type": "code",
      "source": [
        "import calendar\n",
        "\n",
        "year = int(input('Enter year: '))\n",
        "month = int(input('Enter month: '))\n",
        "\n",
        "cal = calendar.month(year, month)\n",
        "print(cal)"
      ],
      "metadata": {
        "colab": {
          "base_uri": "https://localhost:8080/"
        },
        "id": "avxvTudHKUWT",
        "outputId": "d066fa63-82d1-4a61-8917-ce75adfd946b"
      },
      "execution_count": 11,
      "outputs": [
        {
          "output_type": "stream",
          "name": "stdout",
          "text": [
            "Enter year: 2023\n",
            "Enter month: 12\n",
            "   December 2023\n",
            "Mo Tu We Th Fr Sa Su\n",
            "             1  2  3\n",
            " 4  5  6  7  8  9 10\n",
            "11 12 13 14 15 16 17\n",
            "18 19 20 21 22 23 24\n",
            "25 26 27 28 29 30 31\n",
            "\n"
          ]
        }
      ]
    },
    {
      "cell_type": "code",
      "source": [],
      "metadata": {
        "id": "sVzBgdUXKyLf"
      },
      "execution_count": null,
      "outputs": []
    }
  ]
}